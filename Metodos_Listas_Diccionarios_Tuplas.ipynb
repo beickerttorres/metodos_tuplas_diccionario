{
  "nbformat": 4,
  "nbformat_minor": 0,
  "metadata": {
    "colab": {
      "provenance": []
    },
    "kernelspec": {
      "name": "python3",
      "display_name": "Python 3"
    },
    "language_info": {
      "name": "python"
    }
  },
  "cells": [
    {
      "cell_type": "code",
      "execution_count": null,
      "metadata": {
        "id": "17zkjIGZoqSe"
      },
      "outputs": [],
      "source": []
    },
    {
      "cell_type": "markdown",
      "source": [
        "**beickert**"
      ],
      "metadata": {
        "id": "B5fflG06p65T"
      }
    },
    {
      "cell_type": "code",
      "source": [
        "#listas\n",
        "las_listas=[\"Aragon\",\"vivas\",\"gonsales\",\"rodigrez\",\"etc\"]\n",
        "\n"
      ],
      "metadata": {
        "id": "8IGZ5p5RMwlw"
      },
      "execution_count": null,
      "outputs": []
    },
    {
      "cell_type": "code",
      "source": [
        "las_listas.append(\"beickert\")\n",
        "print(las_listas)"
      ],
      "metadata": {
        "colab": {
          "base_uri": "https://localhost:8080/"
        },
        "id": "QB45Qe7lNRdy",
        "outputId": "6703e231-2338-48af-ddc0-715c5c1bcd25"
      },
      "execution_count": null,
      "outputs": [
        {
          "output_type": "stream",
          "name": "stdout",
          "text": [
            "['Aragon', 'vivas', 'gonsales', 'rodigrez', 'etc', 'beickert']\n"
          ]
        }
      ]
    },
    {
      "cell_type": "code",
      "source": [
        "las_listas.remove(\"etc\")\n",
        "print(las_listas)"
      ],
      "metadata": {
        "id": "AKFLd9pvNmCp"
      },
      "execution_count": null,
      "outputs": []
    },
    {
      "cell_type": "code",
      "source": [
        "los_dics={\"nombre \": \"Angustina\",\"edad\":23, \"matriculada\":True }\n",
        "print(los_dics)"
      ],
      "metadata": {
        "colab": {
          "base_uri": "https://localhost:8080/"
        },
        "id": "TsNQcLNhN6D_",
        "outputId": "d7993a32-b2e0-4574-e1e2-bffbfd157cbb"
      },
      "execution_count": null,
      "outputs": [
        {
          "output_type": "stream",
          "name": "stdout",
          "text": [
            "{'nombre ': 'Angustina', 'edad': 23, 'matriculada': True}\n"
          ]
        }
      ]
    },
    {
      "cell_type": "code",
      "source": [
        "print(los_dics.get(\"matriculada\"))"
      ],
      "metadata": {
        "colab": {
          "base_uri": "https://localhost:8080/"
        },
        "id": "UOsOzND2OgDI",
        "outputId": "6d6fc990-0a3d-4ab5-f2bb-fcfdf19ee9b1"
      },
      "execution_count": null,
      "outputs": [
        {
          "output_type": "stream",
          "name": "stdout",
          "text": [
            "True\n"
          ]
        }
      ]
    },
    {
      "cell_type": "code",
      "source": [
        "print(los_dics.keys())"
      ],
      "metadata": {
        "colab": {
          "base_uri": "https://localhost:8080/"
        },
        "id": "xO52rmahPD8n",
        "outputId": "efc9a040-a458-4fbb-9266-e00e4eee31f9"
      },
      "execution_count": null,
      "outputs": [
        {
          "output_type": "stream",
          "name": "stdout",
          "text": [
            "dict_keys(['nombre ', 'edad', 'matriculada'])\n"
          ]
        }
      ]
    },
    {
      "cell_type": "code",
      "source": [],
      "metadata": {
        "id": "RPG8MyINPkBu"
      },
      "execution_count": null,
      "outputs": []
    },
    {
      "cell_type": "code",
      "source": [
        "print(\"hola que mas \");"
      ],
      "metadata": {
        "colab": {
          "base_uri": "https://localhost:8080/"
        },
        "id": "n8HaW9SVqHBr",
        "outputId": "cbc4e82c-4bdf-4012-bba5-827c527c2c8b"
      },
      "execution_count": null,
      "outputs": [
        {
          "output_type": "stream",
          "name": "stdout",
          "text": [
            "hola que mas \n"
          ]
        }
      ]
    },
    {
      "cell_type": "code",
      "source": [
        "edad = 15\n",
        "if edad >= 18:\n",
        "    print(\"eres mayor de edad\");\n",
        "else:\n",
        "    print(\"eres menor de edad\");\n",
        "    numero1=12\n",
        "    numero2=13\n",
        "    print(numero1+numero2);\n",
        "    numero_telefonico = 9090809789\n",
        "    numero_pi: float = 3.14\n",
        "    matriculado: bool = False;\n",
        "    print(matriculado);\n",
        "    cantidad_alumnos: int = 13\n",
        "    print(\"cantidad alumnos\")\n"
      ],
      "metadata": {
        "colab": {
          "base_uri": "https://localhost:8080/"
        },
        "id": "_6khn7I7qkdw",
        "outputId": "f4419af9-ee4a-4a12-efd2-61398c2ba3fb"
      },
      "execution_count": null,
      "outputs": [
        {
          "output_type": "stream",
          "name": "stdout",
          "text": [
            "eres menor de edad\n",
            "25\n",
            "False\n",
            "cantidad alumnos\n"
          ]
        }
      ]
    },
    {
      "cell_type": "code",
      "source": [
        "saludo = \"hola que mas \"\n",
        "numero_decimal = 14.5\n",
        "numero = 123\n",
        "booleano = True\n",
        "print(type(saludo))\n",
        "print(type(numero_decimal))\n",
        "print(type(numero))\n",
        "print(type(booleano))"
      ],
      "metadata": {
        "colab": {
          "base_uri": "https://localhost:8080/"
        },
        "id": "E8zGJ6wNu8_K",
        "outputId": "876c7fc7-1b0e-4cbc-e25e-63139f01687b"
      },
      "execution_count": null,
      "outputs": [
        {
          "output_type": "stream",
          "name": "stdout",
          "text": [
            "<class 'str'>\n",
            "<class 'float'>\n",
            "<class 'int'>\n",
            "<class 'bool'>\n"
          ]
        }
      ]
    },
    {
      "cell_type": "code",
      "source": [
        "def suma(a, b):\n",
        "  return a + b\n",
        "resultado = suma(5, 3)\n",
        "print(resultado)"
      ],
      "metadata": {
        "colab": {
          "base_uri": "https://localhost:8080/"
        },
        "id": "u3xploZUwjvi",
        "outputId": "08a9cc9a-ba96-41b4-dcb7-ee5a4f658aa3"
      },
      "execution_count": null,
      "outputs": [
        {
          "output_type": "stream",
          "name": "stdout",
          "text": [
            "8\n"
          ]
        }
      ]
    },
    {
      "cell_type": "code",
      "source": [
        "a: int = 5\n",
        "if a > 10:\n",
        "  print(\"10 es mayor que 5\")\n",
        "else:\n",
        "  print(\"5 es menor que 10\")\n",
        "  #esto es un comentario\n",
        "  \"\"\"\n",
        "  hola que mas\n",
        "  \"\"\"\n"
      ],
      "metadata": {
        "colab": {
          "base_uri": "https://localhost:8080/"
        },
        "id": "9ll4B84Bw3ep",
        "outputId": "fad6c2c2-fbb1-4872-a100-1ad4d838430f"
      },
      "execution_count": null,
      "outputs": [
        {
          "output_type": "stream",
          "name": "stdout",
          "text": [
            "5 es menor que 10\n"
          ]
        }
      ]
    },
    {
      "cell_type": "code",
      "source": [
        "#una empresa desea automatizar el calculo del salario neto de sus empleados,cada empleado tiene un nombre un cargo y un salario\n",
        "# base mensual el\n",
        "#salrio neto depende de las suiquientes condiciones\n",
        "#si el empleado gana menos de 1500 dolares recibe un bono de un 10% de su salario base\n",
        "#si el empleado gana entre 1500 y 3000 dolares no recibe bono ni descuento adicional\n",
        "#3 si el empleado gana mas de 3000 se le aplica un descuento del 8% por retencion de la fuente\n",
        "#4 todos los empleados reciben ademas un bono fijo de transporte por 100 dolares\n",
        "#condiciones de la entrega utilizar todos los tipos de variables primitivos hacer uso de l aestructura de control del\n",
        "# flujo condicional\n",
        "#y debe tener al menos una funcion"
      ],
      "metadata": {
        "id": "HSaiiWRi0Apr"
      },
      "execution_count": null,
      "outputs": []
    },
    {
      "cell_type": "code",
      "source": [
        "empleado1 = \"beickert\"\n",
        "salario_base1 = 1500\n",
        "bono_transporte = 100\n",
        "\n",
        "empleado2 = \"gabriel\"\n",
        "salario_base2 = 3000\n",
        "bono_transporte = 100\n",
        "\n",
        "empleado3 = \"luis\"\n",
        "salario_base3 = 4000\n",
        "bono_transporte = 100\n",
        "\n",
        "def salario_neto(salario_base):\n",
        "   if salario_base < 1500:\n",
        "    salario_neto = salario_base + (salario_base * 0.1) + bono_transporte\n",
        "   elif salario_base >= 1500 and salario_base <= 3000:\n",
        "    salario_neto = salario_base + bono_transporte\n",
        "   elif salario_base > 3000:\n",
        "    salario_neto = salario_base - (salario_base * 0.08) + bono_transporte\n",
        "   return salario_neto\n",
        "\n",
        "print(\"el empleado recibe un bonono del 10% = \", salario_neto(salario_base1))\n",
        "print(\"no recibe ni bono ni descuento = \" , salario_neto(salario_base2))\n",
        "print(\"el empleado recibe un descuento del 8% = \" , salario_neto(salario_base3))"
      ],
      "metadata": {
        "colab": {
          "base_uri": "https://localhost:8080/"
        },
        "id": "kN2HX3qv1o8X",
        "outputId": "a955ed82-3248-442d-d5aa-fe2f836bb834"
      },
      "execution_count": null,
      "outputs": [
        {
          "output_type": "stream",
          "name": "stdout",
          "text": [
            "el empleado recibe un bonono del 10% =  1600\n",
            "no recibe ni bono ni descuento =  3100\n",
            "el empleado recibe un descuento del 8% =  3780.0\n"
          ]
        }
      ]
    },
    {
      "cell_type": "code",
      "source": [
        "la_tupla = (\"castro\",\"luke\",\"riveros\",\"perche\",\"galindo\",\"castro\",\"etc\")\n",
        "print(la_tupla)\n"
      ],
      "metadata": {
        "colab": {
          "base_uri": "https://localhost:8080/"
        },
        "id": "Ds1lpYdEPqil",
        "outputId": "af1370e8-f152-4df8-c69d-0b78ef19c0de"
      },
      "execution_count": null,
      "outputs": [
        {
          "output_type": "stream",
          "name": "stdout",
          "text": [
            "('castro', 'luke', 'riveros', 'perche', 'galindo', 'castro', 'etc')\n"
          ]
        }
      ]
    },
    {
      "cell_type": "code",
      "source": [
        "la_tupla.count(\"castro\")\n"
      ],
      "metadata": {
        "colab": {
          "base_uri": "https://localhost:8080/"
        },
        "id": "_8DFwD92QE2d",
        "outputId": "670c03cf-0165-4913-8322-363f6721d019"
      },
      "execution_count": null,
      "outputs": [
        {
          "output_type": "execute_result",
          "data": {
            "text/plain": [
              "2"
            ]
          },
          "metadata": {},
          "execution_count": 11
        }
      ]
    },
    {
      "cell_type": "code",
      "source": [
        "la_tupla.index(\"castro\")"
      ],
      "metadata": {
        "colab": {
          "base_uri": "https://localhost:8080/"
        },
        "id": "hGAnblF-QmV0",
        "outputId": "5b96929d-c047-48b4-a6e2-524807f67dec"
      },
      "execution_count": null,
      "outputs": [
        {
          "output_type": "execute_result",
          "data": {
            "text/plain": [
              "0"
            ]
          },
          "metadata": {},
          "execution_count": 12
        }
      ]
    },
    {
      "cell_type": "markdown",
      "source": [
        "**listas y diccionarios**"
      ],
      "metadata": {
        "id": "N0bVDDKAxGiG"
      }
    },
    {
      "cell_type": "code",
      "source": [
        "los_dics1={\"nombre\": \"Angustina\",\"edad\":23, \"matriculada\":True }\n",
        "print(los_dics1)\n",
        "los_dics2={\"nombre\": \"Beickert\",\"edad\":19, \"matriculada\":False }\n",
        "print(los_dics2)\n",
        "los_dics3={\"nombre\": \"Gabriel\",\"edad\":20, \"matriculada\":True }\n",
        "print(los_dics3)\n"
      ],
      "metadata": {
        "colab": {
          "base_uri": "https://localhost:8080/"
        },
        "id": "IL1_ZLzxnrLm",
        "outputId": "389c72d9-c3c4-47c0-a874-172800de6c99"
      },
      "execution_count": null,
      "outputs": [
        {
          "output_type": "stream",
          "name": "stdout",
          "text": [
            "{'nombre': 'Angustina', 'edad': 23, 'matriculada': True}\n",
            "{'nombre': 'Beickert', 'edad': 19, 'matriculada': False}\n",
            "{'nombre': 'Gabriel', 'edad': 20, 'matriculada': True}\n"
          ]
        }
      ]
    },
    {
      "cell_type": "code",
      "source": [
        "las_listas=[\"Aragon\",\"gonsalez\",\"gonsalez\",\"rodriguez\",\"etc\"]\n",
        "las_listas2=[\"Aragon\",\"urdaneta\",\"gonsalez\",\"ramirez\",\"etc\"]\n",
        "las_listas3=[\"Aragon\",\"hernandez\",\"gonsalez\",\"tapia\",\"etc\"]"
      ],
      "metadata": {
        "id": "mwY4HWOGoJem"
      },
      "execution_count": null,
      "outputs": []
    },
    {
      "cell_type": "markdown",
      "source": [
        "##Apppend"
      ],
      "metadata": {
        "id": "Er4dNCF6p1SI"
      }
    },
    {
      "cell_type": "markdown",
      "source": [
        "> **Agrega un elemento al final de lista**"
      ],
      "metadata": {
        "id": "NVgjhcV4n97M"
      }
    },
    {
      "cell_type": "code",
      "source": [
        "las_listas.append(\"castro\")\n",
        "print(las_listas)\n",
        "las_listas.append(\"gabriel\")\n",
        "print(las_listas)\n",
        "las_listas.append(\"torres\")\n",
        "print(las_listas)"
      ],
      "metadata": {
        "colab": {
          "base_uri": "https://localhost:8080/"
        },
        "id": "_1qy9j21SKEq",
        "outputId": "dea8f427-516f-4975-bbbe-cfd9c48f0da6"
      },
      "execution_count": null,
      "outputs": [
        {
          "output_type": "stream",
          "name": "stdout",
          "text": [
            "['castro']\n",
            "['castro', 'gabriel']\n",
            "['castro', 'gabriel', 'torres']\n"
          ]
        }
      ]
    },
    {
      "cell_type": "markdown",
      "source": [
        "##clear()"
      ],
      "metadata": {
        "id": "cVB2D9jeqQug"
      }
    },
    {
      "cell_type": "markdown",
      "source": [
        "**Elimina todos los elementos de la lista**"
      ],
      "metadata": {
        "id": "hob5iSOuqD87"
      }
    },
    {
      "cell_type": "code",
      "source": [
        "las_listas.clear()\n",
        "print(las_listas)\n",
        "las_listas2.clear()\n",
        "print(las_listas2)\n",
        "las_listas3.clear()\n",
        "print(las_listas3)"
      ],
      "metadata": {
        "colab": {
          "base_uri": "https://localhost:8080/"
        },
        "id": "DMcfZVNsTWWa",
        "outputId": "87df3d8c-c28d-47dd-fb24-f8ae1494118b"
      },
      "execution_count": null,
      "outputs": [
        {
          "output_type": "stream",
          "name": "stdout",
          "text": [
            "[]\n",
            "[]\n",
            "[]\n"
          ]
        }
      ]
    },
    {
      "cell_type": "markdown",
      "source": [
        "##count()"
      ],
      "metadata": {
        "id": "P0H367g9qoSL"
      }
    },
    {
      "cell_type": "markdown",
      "source": [
        "**Devuelve el número de elementos con el valor especificado**"
      ],
      "metadata": {
        "id": "q5c8t0B_qd2A"
      }
    },
    {
      "cell_type": "code",
      "source": [
        "print(las_listas.count(\"castro\"))\n",
        "print(las_listas.count(\"gabriel\"))\n",
        "print(las_listas.count(\"torres\"))"
      ],
      "metadata": {
        "colab": {
          "base_uri": "https://localhost:8080/"
        },
        "id": "oUfmHxO8T8OB",
        "outputId": "b41a63eb-edec-436d-d98a-9fe5a0990510"
      },
      "execution_count": null,
      "outputs": [
        {
          "output_type": "stream",
          "name": "stdout",
          "text": [
            "1\n",
            "1\n",
            "1\n"
          ]
        }
      ]
    },
    {
      "cell_type": "markdown",
      "source": [
        "##extend()"
      ],
      "metadata": {
        "id": "Sdc4JOlkqvhd"
      }
    },
    {
      "cell_type": "markdown",
      "source": [
        "**Añade los elementos de una lista (o cualquier iterable), al final de la lista actual**"
      ],
      "metadata": {
        "id": "Lry4Yh5Pq0er"
      }
    },
    {
      "cell_type": "code",
      "source": [
        "las_listas.extend([\"juanchito\",\"samuelito\",\"pedrito\"])\n",
        "print(las_listas)\n",
        "las_listas.extend([\"juan\",\"gabrielito\"])\n",
        "print(las_listas)\n",
        "las_listas.extend([\"juancho\",\"samuel\"])\n",
        "print(las_listas)"
      ],
      "metadata": {
        "colab": {
          "base_uri": "https://localhost:8080/"
        },
        "id": "0hmbtfTSUsMI",
        "outputId": "50108efb-7a98-4a1a-d349-f4dad211fa49"
      },
      "execution_count": null,
      "outputs": [
        {
          "output_type": "stream",
          "name": "stdout",
          "text": [
            "['castro', 'gabriel', 'torres', 'castro', 'gabriel', 'torres', 'juanchito', 'samuelito', 'pedrito', 'juanchito', 'samuelito', 'pedrito']\n",
            "['castro', 'gabriel', 'torres', 'castro', 'gabriel', 'torres', 'juanchito', 'samuelito', 'pedrito', 'juanchito', 'samuelito', 'pedrito', 'juan', 'gabrielito']\n",
            "['castro', 'gabriel', 'torres', 'castro', 'gabriel', 'torres', 'juanchito', 'samuelito', 'pedrito', 'juanchito', 'samuelito', 'pedrito', 'juan', 'gabrielito', 'juancho', 'samuel']\n"
          ]
        }
      ]
    },
    {
      "cell_type": "markdown",
      "source": [
        "##index()"
      ],
      "metadata": {
        "id": "4nRgFoy1q9Nt"
      }
    },
    {
      "cell_type": "markdown",
      "source": [
        "**Devuelve el índice del primer elemento con el valor especificado**"
      ],
      "metadata": {
        "id": "WStuq0qkrBIj"
      }
    },
    {
      "cell_type": "code",
      "source": [
        "print(las_listas.index(\"castro\"))\n",
        "print(las_listas.index(\"gabriel\"))\n",
        "print(las_listas.index(\"torres\"))"
      ],
      "metadata": {
        "colab": {
          "base_uri": "https://localhost:8080/"
        },
        "id": "ElBwPR7ZWAlX",
        "outputId": "6dcdcdec-bb1d-4afd-cb97-067d96b31012"
      },
      "execution_count": null,
      "outputs": [
        {
          "output_type": "stream",
          "name": "stdout",
          "text": [
            "0\n",
            "1\n",
            "2\n"
          ]
        }
      ]
    },
    {
      "cell_type": "markdown",
      "source": [
        "##insert()"
      ],
      "metadata": {
        "id": "cvR1swoorHMX"
      }
    },
    {
      "cell_type": "markdown",
      "source": [
        "**Agrega un elemento en la posición especificada**"
      ],
      "metadata": {
        "id": "c5uOSaWArKML"
      }
    },
    {
      "cell_type": "code",
      "source": [
        "las_listas.insert(0,\"Beickert\")\n",
        "print(las_listas)\n",
        "las_listas.insert(1,\"Tapia\")\n",
        "print(las_listas)\n",
        "las_listas.insert(2,\"Franco\")\n",
        "print(las_listas)"
      ],
      "metadata": {
        "colab": {
          "base_uri": "https://localhost:8080/"
        },
        "id": "8ZDGyjawWQKm",
        "outputId": "38ff382f-8b20-4d5e-cd3c-9115e51f5bd2"
      },
      "execution_count": null,
      "outputs": [
        {
          "output_type": "stream",
          "name": "stdout",
          "text": [
            "['Beickert', 'Tapia', 'juan']\n",
            "['Beickert', 'Tapia', 'Tapia', 'juan']\n",
            "['Beickert', 'Tapia', 'Franco', 'Tapia', 'juan']\n"
          ]
        }
      ]
    },
    {
      "cell_type": "markdown",
      "source": [
        "##pop()"
      ],
      "metadata": {
        "id": "9B0Q7_cKrbUS"
      }
    },
    {
      "cell_type": "markdown",
      "source": [
        "**#Elimina el elemento en la posición especificada**"
      ],
      "metadata": {
        "id": "qtTsFC5Are6c"
      }
    },
    {
      "cell_type": "code",
      "source": [
        "las_listas.pop(0)\n",
        "print(las_listas)\n",
        "las_listas.pop(1)\n",
        "print(las_listas)\n",
        "las_listas.pop(2)\n",
        "print(las_listas)"
      ],
      "metadata": {
        "colab": {
          "base_uri": "https://localhost:8080/"
        },
        "id": "KGt8rq0OWlfu",
        "outputId": "e555a806-2393-4d51-9bc3-c453aaf13622"
      },
      "execution_count": null,
      "outputs": [
        {
          "output_type": "stream",
          "name": "stdout",
          "text": [
            "['Tapia', 'Franco', 'juan', 'samuel']\n",
            "['Tapia', 'juan', 'samuel']\n",
            "['Tapia', 'juan']\n"
          ]
        }
      ]
    },
    {
      "cell_type": "markdown",
      "source": [
        "##remove()"
      ],
      "metadata": {
        "id": "HuSiLRSerrUj"
      }
    },
    {
      "cell_type": "markdown",
      "source": [
        "**#Elimina el elemento con el valor especificado**"
      ],
      "metadata": {
        "id": "t14GiqdZrpEg"
      }
    },
    {
      "cell_type": "code",
      "source": [
        "las_listas.remove(\"Beickert\")\n",
        "print(las_listas)\n",
        "las_listas.remove(\"Tapia\")\n",
        "print(las_listas)\n",
        "las_listas.remove(\"Franco\")\n",
        "print(las_listas)"
      ],
      "metadata": {
        "colab": {
          "base_uri": "https://localhost:8080/"
        },
        "id": "HgXKohVvXtv9",
        "outputId": "1a19e75a-b749-4914-abc6-6e6d19ed810f"
      },
      "execution_count": null,
      "outputs": [
        {
          "output_type": "stream",
          "name": "stdout",
          "text": [
            "['Tapia', 'Franco', 'Tapia', 'juan']\n",
            "['Franco', 'Tapia', 'juan']\n",
            "['Tapia', 'juan']\n"
          ]
        }
      ]
    },
    {
      "cell_type": "markdown",
      "source": [
        "##reserve()"
      ],
      "metadata": {
        "id": "bSeX5bZyr-ri"
      }
    },
    {
      "cell_type": "markdown",
      "source": [
        "**#Invierte el orden de la lista**"
      ],
      "metadata": {
        "id": "7cZMG0gbr8Jo"
      }
    },
    {
      "cell_type": "code",
      "source": [
        "las_listas.reverse()\n",
        "print(las_listas)\n",
        "las_listas2.reverse()\n",
        "print(las_listas2)\n",
        "las_listas3.reverse()\n",
        "print(las_listas3)"
      ],
      "metadata": {
        "colab": {
          "base_uri": "https://localhost:8080/"
        },
        "id": "w0RVZf3xY4b1",
        "outputId": "93895291-7cca-4317-9710-2ace6fb5c993"
      },
      "execution_count": null,
      "outputs": [
        {
          "output_type": "stream",
          "name": "stdout",
          "text": [
            "['etc', 'rodigrez', 'gonsales', 'vivas', 'Aragon']\n",
            "['etc', 'ramirez', 'gonsales', 'urdaneta', 'Aragon']\n",
            "['etc', 'tapia', 'gonsales', 'hernandez', 'Aragon']\n"
          ]
        }
      ]
    },
    {
      "cell_type": "markdown",
      "source": [
        "##sort()"
      ],
      "metadata": {
        "id": "wiv2aljlsNlt"
      }
    },
    {
      "cell_type": "markdown",
      "source": [
        "**ordena la lista**"
      ],
      "metadata": {
        "id": "qBvw-p4UsKBG"
      }
    },
    {
      "cell_type": "code",
      "source": [
        "las_listas.sort()\n",
        "print(las_listas)\n",
        "las_listas2.sort()\n",
        "print(las_listas2)\n",
        "las_listas3.sort()\n",
        "print(las_listas3)"
      ],
      "metadata": {
        "colab": {
          "base_uri": "https://localhost:8080/"
        },
        "id": "Jr8VUcfmZMjM",
        "outputId": "d79e3df7-b097-45a3-9ffb-9177b3f74429"
      },
      "execution_count": null,
      "outputs": [
        {
          "output_type": "stream",
          "name": "stdout",
          "text": [
            "['Aragon', 'etc', 'gonsales', 'rodigrez', 'vivas']\n",
            "['Aragon', 'etc', 'gonsales', 'ramirez', 'urdaneta']\n",
            "['Aragon', 'etc', 'gonsales', 'hernandez', 'tapia']\n"
          ]
        }
      ]
    },
    {
      "cell_type": "markdown",
      "source": [
        "**Dictionary Methods**"
      ],
      "metadata": {
        "id": "YO6Hx1GswVz-"
      }
    },
    {
      "cell_type": "markdown",
      "source": [
        "##clear()"
      ],
      "metadata": {
        "id": "jz8tOhc2shCi"
      }
    },
    {
      "cell_type": "markdown",
      "source": [
        "**Elimina todos los elementos del diccionario**"
      ],
      "metadata": {
        "id": "tWMUmH60skH6"
      }
    },
    {
      "cell_type": "code",
      "source": [
        "print(los_dics.clear())\n",
        "print(los_dics2.clear())\n",
        "print(los_dics3.clear())"
      ],
      "metadata": {
        "colab": {
          "base_uri": "https://localhost:8080/"
        },
        "id": "bWgTDtLOZacM",
        "outputId": "94478a18-7538-4e40-945b-509ae6965fc6"
      },
      "execution_count": null,
      "outputs": [
        {
          "output_type": "stream",
          "name": "stdout",
          "text": [
            "None\n",
            "None\n",
            "None\n"
          ]
        }
      ]
    },
    {
      "cell_type": "markdown",
      "source": [
        "##Copy"
      ],
      "metadata": {
        "id": "_TSjhn-WszK3"
      }
    },
    {
      "cell_type": "markdown",
      "source": [
        "**Devuelve una copia del diccionario**"
      ],
      "metadata": {
        "id": "So11U4ZVs1lt"
      }
    },
    {
      "cell_type": "code",
      "source": [
        "los_dics1.copy()\n",
        "print(los_dics1)\n",
        "los_dics2.copy()\n",
        "print(los_dics2)\n",
        "los_dics3.copy()\n",
        "print(los_dics3)"
      ],
      "metadata": {
        "colab": {
          "base_uri": "https://localhost:8080/"
        },
        "id": "A1T4-Q-ObNgU",
        "outputId": "78094a3e-0925-4891-95eb-c05ab0862797"
      },
      "execution_count": null,
      "outputs": [
        {
          "output_type": "stream",
          "name": "stdout",
          "text": [
            "{'nombre ': 'Angustina', 'edad': 23, 'matriculada': True}\n",
            "{'nombre ': 'Beickert', 'edad': 19, 'matriculada': False}\n",
            "{'nombre ': 'Gabriel', 'edad': 20, 'matriculada': True}\n"
          ]
        }
      ]
    },
    {
      "cell_type": "markdown",
      "source": [
        "##fromkeys()"
      ],
      "metadata": {
        "id": "WO9ZLPn5tHc8"
      }
    },
    {
      "cell_type": "markdown",
      "source": [
        "**Devuelve un diccionario con las claves y el valor especificados**"
      ],
      "metadata": {
        "id": "5cYicto4tLM1"
      }
    },
    {
      "cell_type": "code",
      "source": [
        "lista = [\"nombre\",\"edad\",\"matriculada\"]\n",
        "los_dics1.fromkeys(lista, \"beickert\")\n",
        "print(los_dics1)\n",
        "los_dics2.fromkeys(lista, \"gabriel\")\n",
        "print(los_dics2)\n",
        "los_dics3.fromkeys(lista, \"luis\")\n",
        "print(los_dics3)"
      ],
      "metadata": {
        "colab": {
          "base_uri": "https://localhost:8080/"
        },
        "id": "2OquaHZncFTa",
        "outputId": "9d9d1de1-ba7a-4694-db08-950c6bd28088"
      },
      "execution_count": null,
      "outputs": [
        {
          "output_type": "stream",
          "name": "stdout",
          "text": [
            "{'nombre ': 'Angustina', 'edad': 23, 'matriculada': True}\n",
            "{'nombre ': 'Beickert', 'edad': 19, 'matriculada': False}\n",
            "{'nombre ': 'Gabriel', 'edad': 20, 'matriculada': True}\n"
          ]
        }
      ]
    },
    {
      "cell_type": "markdown",
      "source": [
        "##get()"
      ],
      "metadata": {
        "id": "fpRad3NetaHj"
      }
    },
    {
      "cell_type": "markdown",
      "source": [
        "**Devuelve el valor de la clave especificada**"
      ],
      "metadata": {
        "id": "093ZdbqUtdTZ"
      }
    },
    {
      "cell_type": "code",
      "source": [
        "print(los_dics1.get(\"nombre\"))\n",
        "print(los_dics2.get(\"edad\"))\n",
        "print(los_dics3.get(\"matriculada\"))"
      ],
      "metadata": {
        "colab": {
          "base_uri": "https://localhost:8080/"
        },
        "id": "yWOL-dbVqEat",
        "outputId": "54f886da-1a13-4028-a1c4-fa2efe5c59a0"
      },
      "execution_count": null,
      "outputs": [
        {
          "output_type": "stream",
          "name": "stdout",
          "text": [
            "Angustina\n",
            "19\n",
            "True\n"
          ]
        }
      ]
    },
    {
      "cell_type": "markdown",
      "source": [
        "##items()"
      ],
      "metadata": {
        "id": "E_bYtaPTtjDQ"
      }
    },
    {
      "cell_type": "markdown",
      "source": [
        "**Devuelve una lista que contiene una tupla para cada par clave-valor**"
      ],
      "metadata": {
        "id": "AuW4KB5otnRH"
      }
    },
    {
      "cell_type": "code",
      "source": [
        "print(los_dics1.items())\n",
        "print(los_dics2.items())\n",
        "print(los_dics3.items())"
      ],
      "metadata": {
        "colab": {
          "base_uri": "https://localhost:8080/"
        },
        "id": "jEfnG6REqxRU",
        "outputId": "6db0f5bd-91d5-4dbd-8c1d-16d65da69b87"
      },
      "execution_count": null,
      "outputs": [
        {
          "output_type": "stream",
          "name": "stdout",
          "text": [
            "dict_items([('nombre', 'Angustina'), ('edad', 23), ('matriculada', True)])\n",
            "dict_items([('nombre', 'Beickert'), ('edad', 19), ('matriculada', False)])\n",
            "dict_items([('nombre', 'Gabriel'), ('edad', 20), ('matriculada', True)])\n"
          ]
        }
      ]
    },
    {
      "cell_type": "markdown",
      "source": [
        "##keys()"
      ],
      "metadata": {
        "id": "wQlsDrC_tqs3"
      }
    },
    {
      "cell_type": "markdown",
      "source": [
        "**Devuelve una lista que contiene las claves del diccionario**"
      ],
      "metadata": {
        "id": "m1G13ePGttju"
      }
    },
    {
      "cell_type": "code",
      "source": [
        "print(los_dics1.keys())\n",
        "print(los_dics2.keys())\n",
        "print(los_dics3.keys())"
      ],
      "metadata": {
        "colab": {
          "base_uri": "https://localhost:8080/"
        },
        "id": "YYnWtaBsrj_r",
        "outputId": "107ca320-6966-471c-b8fe-b9457b0c2cc8"
      },
      "execution_count": null,
      "outputs": [
        {
          "output_type": "stream",
          "name": "stdout",
          "text": [
            "dict_keys(['nombre', 'edad', 'matriculada'])\n",
            "dict_keys(['nombre', 'edad', 'matriculada'])\n",
            "dict_keys(['nombre', 'edad', 'matriculada'])\n"
          ]
        }
      ]
    },
    {
      "cell_type": "markdown",
      "source": [
        "##pop()"
      ],
      "metadata": {
        "id": "Xwq-z3xXty5M"
      }
    },
    {
      "cell_type": "markdown",
      "source": [
        "**Elimina el elemento con la clave especificada**"
      ],
      "metadata": {
        "id": "MlkOZgWot2Jk"
      }
    },
    {
      "cell_type": "code",
      "source": [
        "los_dics1.pop(\"nombre\")\n",
        "print(los_dics1)\n",
        "los_dics2.pop(\"nombre\")\n",
        "print(los_dics2)\n",
        "los_dics3.pop(\"nombre\")\n",
        "print(los_dics3)"
      ],
      "metadata": {
        "colab": {
          "base_uri": "https://localhost:8080/"
        },
        "id": "on5oSsdHsEDb",
        "outputId": "79c0e352-2b90-499c-b989-df18153b8525"
      },
      "execution_count": null,
      "outputs": [
        {
          "output_type": "stream",
          "name": "stdout",
          "text": [
            "{'edad': 23, 'matriculada': True}\n",
            "{'edad': 19, 'matriculada': False}\n",
            "{'edad': 20, 'matriculada': True}\n"
          ]
        }
      ]
    },
    {
      "cell_type": "markdown",
      "source": [
        "##popitem()"
      ],
      "metadata": {
        "id": "U96ceGoMt5id"
      }
    },
    {
      "cell_type": "markdown",
      "source": [
        "**#Elimina el último par clave-valor insertado**"
      ],
      "metadata": {
        "id": "bq1x6MTpt_DL"
      }
    },
    {
      "cell_type": "code",
      "source": [
        "los_dics1.popitem()\n",
        "print(los_dics1)\n",
        "los_dics2.popitem()\n",
        "print(los_dics2)\n",
        "los_dics3.popitem()\n",
        "print(los_dics3)"
      ],
      "metadata": {
        "colab": {
          "base_uri": "https://localhost:8080/"
        },
        "id": "xRxzIFhIsqlC",
        "outputId": "326ae9f5-cb73-40f1-e984-85bdfbe91dd1"
      },
      "execution_count": null,
      "outputs": [
        {
          "output_type": "stream",
          "name": "stdout",
          "text": [
            "{'edad': 23}\n",
            "{'edad': 19}\n",
            "{'edad': 20}\n"
          ]
        }
      ]
    },
    {
      "cell_type": "markdown",
      "source": [
        "##setdefault()"
      ],
      "metadata": {
        "id": "nHnRYW5aufJH"
      }
    },
    {
      "cell_type": "markdown",
      "source": [
        "**#Devuelve el valor de la clave especificada. Si la clave no existe,\n",
        "inserte la clave con el valor especificado**"
      ],
      "metadata": {
        "id": "7jKXU1gYuqgG"
      }
    },
    {
      "cell_type": "code",
      "source": [
        "from pickle import TRUE\n",
        "los_dics1.setdefault(\"matriculada\", True)\n",
        "print(los_dics1)\n",
        "los_dics2.setdefault(\"nombre\", \"Beickert\")\n",
        "print(los_dics2)\n",
        "los_dics3.setdefault(\"nombre\", \"Gabriel\")\n",
        "print(los_dics3)"
      ],
      "metadata": {
        "colab": {
          "base_uri": "https://localhost:8080/"
        },
        "id": "bMPO6skxtGqi",
        "outputId": "5ae5137f-9a90-4a45-8638-73358b84d69c"
      },
      "execution_count": null,
      "outputs": [
        {
          "output_type": "stream",
          "name": "stdout",
          "text": [
            "{'edad': 23, 'nombre': 'Angustina', 'matriculada': True}\n",
            "{'edad': 19, 'nombre': 'Beickert'}\n",
            "{'edad': 20, 'nombre': 'Gabriel'}\n"
          ]
        }
      ]
    },
    {
      "cell_type": "markdown",
      "source": [
        "##update()"
      ],
      "metadata": {
        "id": "A4BVR4g3uzLO"
      }
    },
    {
      "cell_type": "markdown",
      "source": [
        "**Actualiza el diccionario con los pares clave-valor especificados**"
      ],
      "metadata": {
        "id": "ZiYIMsy6u4C6"
      }
    },
    {
      "cell_type": "code",
      "source": [
        "los_dics1.update({\"nombre\": \"Beickert\"})\n",
        "print(los_dics1)\n",
        "los_dics2.update({\"nombre\": \"Gabriel\"})\n",
        "print(los_dics2)\n",
        "los_dics3.update({\"nombre\": \"Luis\"})\n",
        "print(los_dics3)"
      ],
      "metadata": {
        "colab": {
          "base_uri": "https://localhost:8080/"
        },
        "id": "WMFryRQquVEZ",
        "outputId": "1dd9e075-11e6-4831-a8d4-d2af9630ea3b"
      },
      "execution_count": null,
      "outputs": [
        {
          "output_type": "stream",
          "name": "stdout",
          "text": [
            "{'edad': 23, 'nombre': 'Beickert', 'matriculada': True}\n",
            "{'edad': 19, 'nombre': 'Gabriel'}\n",
            "{'edad': 20, 'nombre': 'Luis'}\n"
          ]
        }
      ]
    },
    {
      "cell_type": "markdown",
      "source": [
        "##values()"
      ],
      "metadata": {
        "id": "ZFCteq7HvAB-"
      }
    },
    {
      "cell_type": "markdown",
      "source": [
        "**#Devuelve una lista de todos los valores en el diccionario.**"
      ],
      "metadata": {
        "id": "syUPdAcivEIC"
      }
    },
    {
      "cell_type": "code",
      "source": [
        "print(los_dics1.values())\n",
        "print(los_dics2.values())\n",
        "print(los_dics3.values())"
      ],
      "metadata": {
        "colab": {
          "base_uri": "https://localhost:8080/"
        },
        "id": "wQgluuZbvrK3",
        "outputId": "dec5b99f-60df-4733-81c1-bac094d975f8"
      },
      "execution_count": null,
      "outputs": [
        {
          "output_type": "stream",
          "name": "stdout",
          "text": [
            "dict_values([23, 'Beickert', True])\n",
            "dict_values([19, 'Gabriel'])\n",
            "dict_values([20, 'Luis'])\n"
          ]
        }
      ]
    },
    {
      "cell_type": "markdown",
      "source": [
        "**Tuple Methods**\n"
      ],
      "metadata": {
        "id": "NXSPKgI7wJ83"
      }
    },
    {
      "cell_type": "markdown",
      "source": [
        "##count()"
      ],
      "metadata": {
        "id": "xX4wYVsUvIpX"
      }
    },
    {
      "cell_type": "markdown",
      "source": [
        "**Devuelve el número de veces que aparece un valor especificado en una tupla**"
      ],
      "metadata": {
        "id": "3iu0DD3vvNf3"
      }
    },
    {
      "cell_type": "code",
      "source": [
        "print(las_listas.count(\"gonsalez\"))\n",
        "print(las_listas2.count(\"Castro\"))\n",
        "print(las_listas3.count(\"ramirez\"))"
      ],
      "metadata": {
        "colab": {
          "base_uri": "https://localhost:8080/"
        },
        "id": "eVCfupB_wHHP",
        "outputId": "9aef9c07-a7cd-4ef4-c64c-1b3854fecb4c"
      },
      "execution_count": null,
      "outputs": [
        {
          "output_type": "stream",
          "name": "stdout",
          "text": [
            "2\n",
            "0\n",
            "0\n"
          ]
        }
      ]
    },
    {
      "cell_type": "markdown",
      "source": [
        "##index()"
      ],
      "metadata": {
        "id": "wrxm3zxgvakn"
      }
    },
    {
      "cell_type": "markdown",
      "source": [
        "**Busca en la tupla un valor específico y devuelve la posición donde se encontró**"
      ],
      "metadata": {
        "id": "8Md-GbndveFs"
      }
    },
    {
      "cell_type": "code",
      "source": [
        "print(las_listas.index(\"gonsalez\"))\n",
        "print(las_listas2.index(\"urdaneta\"))\n",
        "print(las_listas3.index(\"tapia\"))"
      ],
      "metadata": {
        "colab": {
          "base_uri": "https://localhost:8080/"
        },
        "id": "Rd0wVT0OyR6l",
        "outputId": "99caa28e-6a48-4b5a-cb27-b2df9f7fd7ba"
      },
      "execution_count": null,
      "outputs": [
        {
          "output_type": "stream",
          "name": "stdout",
          "text": [
            "1\n",
            "1\n",
            "3\n"
          ]
        }
      ]
    },
    {
      "cell_type": "code",
      "source": [
        "import this"
      ],
      "metadata": {
        "colab": {
          "base_uri": "https://localhost:8080/"
        },
        "id": "tsm3bCrJ9AsT",
        "outputId": "bf5e0f8d-1c1c-4341-e2d1-d1368364feb2"
      },
      "execution_count": null,
      "outputs": [
        {
          "output_type": "stream",
          "name": "stdout",
          "text": [
            "The Zen of Python, by Tim Peters\n",
            "\n",
            "Beautiful is better than ugly.\n",
            "Explicit is better than implicit.\n",
            "Simple is better than complex.\n",
            "Complex is better than complicated.\n",
            "Flat is better than nested.\n",
            "Sparse is better than dense.\n",
            "Readability counts.\n",
            "Special cases aren't special enough to break the rules.\n",
            "Although practicality beats purity.\n",
            "Errors should never pass silently.\n",
            "Unless explicitly silenced.\n",
            "In the face of ambiguity, refuse the temptation to guess.\n",
            "There should be one-- and preferably only one --obvious way to do it.\n",
            "Although that way may not be obvious at first unless you're Dutch.\n",
            "Now is better than never.\n",
            "Although never is often better than *right* now.\n",
            "If the implementation is hard to explain, it's a bad idea.\n",
            "If the implementation is easy to explain, it may be a good idea.\n",
            "Namespaces are one honking great idea -- let's do more of those!\n"
          ]
        }
      ]
    }
  ]
}